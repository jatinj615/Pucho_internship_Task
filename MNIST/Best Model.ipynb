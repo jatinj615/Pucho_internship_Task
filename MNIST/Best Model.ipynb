{
 "cells": [
  {
   "cell_type": "markdown",
   "metadata": {},
   "source": [
    "## Importing Libraries "
   ]
  },
  {
   "cell_type": "code",
   "execution_count": 1,
   "metadata": {},
   "outputs": [],
   "source": [
    "import numpy as np\n",
    "import pandas as pd\n",
    "import matplotlib.pyplot as plt\n",
    "import seaborn as sns"
   ]
  },
  {
   "cell_type": "markdown",
   "metadata": {},
   "source": [
    "## Import Dataset"
   ]
  },
  {
   "cell_type": "code",
   "execution_count": 2,
   "metadata": {},
   "outputs": [],
   "source": [
    "df = pd.read_csv('train.csv')"
   ]
  },
  {
   "cell_type": "code",
   "execution_count": 3,
   "metadata": {},
   "outputs": [],
   "source": [
    "y = np.array(df['label'])"
   ]
  },
  {
   "cell_type": "code",
   "execution_count": 4,
   "metadata": {},
   "outputs": [
    {
     "data": {
      "text/plain": [
       "0        1\n",
       "1        0\n",
       "2        1\n",
       "3        4\n",
       "4        0\n",
       "5        0\n",
       "6        7\n",
       "7        3\n",
       "8        5\n",
       "9        3\n",
       "10       8\n",
       "11       9\n",
       "12       1\n",
       "13       3\n",
       "14       3\n",
       "15       1\n",
       "16       2\n",
       "17       0\n",
       "18       7\n",
       "19       5\n",
       "20       8\n",
       "21       6\n",
       "22       2\n",
       "23       0\n",
       "24       2\n",
       "25       3\n",
       "26       6\n",
       "27       9\n",
       "28       9\n",
       "29       7\n",
       "        ..\n",
       "41970    2\n",
       "41971    3\n",
       "41972    4\n",
       "41973    4\n",
       "41974    3\n",
       "41975    9\n",
       "41976    2\n",
       "41977    4\n",
       "41978    4\n",
       "41979    4\n",
       "41980    7\n",
       "41981    2\n",
       "41982    8\n",
       "41983    7\n",
       "41984    3\n",
       "41985    3\n",
       "41986    0\n",
       "41987    5\n",
       "41988    0\n",
       "41989    5\n",
       "41990    3\n",
       "41991    1\n",
       "41992    9\n",
       "41993    6\n",
       "41994    4\n",
       "41995    0\n",
       "41996    1\n",
       "41997    7\n",
       "41998    6\n",
       "41999    9\n",
       "Name: label, Length: 42000, dtype: int64"
      ]
     },
     "execution_count": 4,
     "metadata": {},
     "output_type": "execute_result"
    }
   ],
   "source": [
    "df.pop('label')"
   ]
  },
  {
   "cell_type": "code",
   "execution_count": 5,
   "metadata": {},
   "outputs": [],
   "source": [
    "X = df"
   ]
  },
  {
   "cell_type": "code",
   "execution_count": 6,
   "metadata": {},
   "outputs": [],
   "source": [
    "from sklearn.model_selection import train_test_split"
   ]
  },
  {
   "cell_type": "code",
   "execution_count": 7,
   "metadata": {},
   "outputs": [],
   "source": [
    "X_train, X_test, y_train, y_test = train_test_split(X, y, test_size = 0.2, random_state = 42)"
   ]
  },
  {
   "cell_type": "markdown",
   "metadata": {},
   "source": [
    "## PCA Dimentionality Reduction"
   ]
  },
  {
   "cell_type": "code",
   "execution_count": 8,
   "metadata": {},
   "outputs": [],
   "source": [
    "from sklearn.decomposition import PCA"
   ]
  },
  {
   "cell_type": "code",
   "execution_count": 9,
   "metadata": {},
   "outputs": [],
   "source": [
    "pca =PCA(n_components=50, svd_solver='randomized',\n",
    "          whiten=True)"
   ]
  },
  {
   "cell_type": "code",
   "execution_count": 10,
   "metadata": {},
   "outputs": [
    {
     "data": {
      "text/plain": [
       "PCA(copy=True, iterated_power='auto', n_components=50, random_state=None,\n",
       "  svd_solver='randomized', tol=0.0, whiten=True)"
      ]
     },
     "execution_count": 10,
     "metadata": {},
     "output_type": "execute_result"
    }
   ],
   "source": [
    "pca.fit(X_train)"
   ]
  },
  {
   "cell_type": "code",
   "execution_count": 11,
   "metadata": {},
   "outputs": [],
   "source": [
    "X_pca = pca.transform(X_train)"
   ]
  },
  {
   "cell_type": "code",
   "execution_count": 12,
   "metadata": {},
   "outputs": [
    {
     "data": {
      "image/png": "[encoded data removed]",
      "text/plain": [
       "<Figure size 432x288 with 1 Axes>"
      ]
     },
     "metadata": {},
     "output_type": "display_data"
    }
   ],
   "source": [
    "plt.plot(np.cumsum(pca.explained_variance_ratio_)*100)\n",
    "plt.xlabel(\"No. of components\")\n",
    "plt.ylabel(\"cummulative explained Variance\");"
   ]
  },
  {
   "cell_type": "code",
   "execution_count": 13,
   "metadata": {},
   "outputs": [
    {
     "data": {
      "text/plain": [
       "(33600, 50)"
      ]
     },
     "execution_count": 13,
     "metadata": {},
     "output_type": "execute_result"
    }
   ],
   "source": [
    "X_pca.shape"
   ]
  },
  {
   "cell_type": "code",
   "execution_count": 14,
   "metadata": {},
   "outputs": [],
   "source": [
    "X_test_pca = pca.transform(X_test)"
   ]
  },
  {
   "cell_type": "code",
   "execution_count": 15,
   "metadata": {},
   "outputs": [
    {
     "data": {
      "text/plain": [
       "(8400, 50)"
      ]
     },
     "execution_count": 15,
     "metadata": {},
     "output_type": "execute_result"
    }
   ],
   "source": [
    "X_test_pca.shape"
   ]
  },
  {
   "cell_type": "markdown",
   "metadata": {},
   "source": [
    "## Using SVM"
   ]
  },
  {
   "cell_type": "code",
   "execution_count": 16,
   "metadata": {},
   "outputs": [],
   "source": [
    "from sklearn.svm import SVC"
   ]
  },
  {
   "cell_type": "code",
   "execution_count": 17,
   "metadata": {},
   "outputs": [],
   "source": [
    "clf = SVC()"
   ]
  },
  {
   "cell_type": "code",
   "execution_count": 18,
   "metadata": {},
   "outputs": [
    {
     "data": {
      "text/plain": [
       "SVC(C=1.0, cache_size=200, class_weight=None, coef0=0.0,\n",
       "  decision_function_shape='ovr', degree=3, gamma='auto', kernel='rbf',\n",
       "  max_iter=-1, probability=False, random_state=None, shrinking=True,\n",
       "  tol=0.001, verbose=False)"
      ]
     },
     "execution_count": 18,
     "metadata": {},
     "output_type": "execute_result"
    }
   ],
   "source": [
    "clf.fit(X_pca, y_train)"
   ]
  },
  {
   "cell_type": "code",
   "execution_count": 19,
   "metadata": {},
   "outputs": [],
   "source": [
    "from sklearn.model_selection import cross_val_predict, cross_val_score\n",
    "from sklearn.metrics import accuracy_score, classification_report, confusion_matrix"
   ]
  },
  {
   "cell_type": "code",
   "execution_count": 20,
   "metadata": {},
   "outputs": [],
   "source": [
    "def print_score(clf, X_train, X_test, y_train, y_test, train = True):\n",
    "#     print accuracy score, classification report, confusion metrics\n",
    "    if train:\n",
    "#         training performance\n",
    "        print('Train Result : \\n')\n",
    "        print('Accuracy Score {0:.4f}\\n'.format(accuracy_score(y_train, clf.predict(X_train))))\n",
    "        print('Classification Report : \\n {} \\n'.format(classification_report(y_train, clf.predict(X_train))))\n",
    "        print('Confusion Metrics : \\n {} \\n'.format(confusion_matrix(y_train, clf.predict(X_train))))\n",
    "        \n",
    "        res = cross_val_score(clf, X_train, y_train, cv = 10, scoring='accuracy')\n",
    "        print('Average Accuracy : {0:.4f}\\n'.format(np.mean(res)))\n",
    "        print('Accuracy SD : {0:.4f}\\n'.format(np.std(res)))\n",
    "        \n",
    "    elif train == False:\n",
    "#         test performance\n",
    "        print('Test Result : \\n')\n",
    "        print('Accuracy Score {0:.4f}\\n'.format(accuracy_score(y_test, clf.predict(X_test))))\n",
    "        print('Classification Report : \\n {}\\n'.format(classification_report(y_test, clf.predict(X_test))))\n",
    "        print('Confusion Metrics : \\n {} \\n'.format(confusion_matrix(y_test, clf.predict(X_test))))\n"
   ]
  },
  {
   "cell_type": "code",
   "execution_count": 21,
   "metadata": {},
   "outputs": [
    {
     "name": "stdout",
     "output_type": "stream",
     "text": [
      "Train Result : \n",
      "\n",
      "Accuracy Score 0.9929\n",
      "\n",
      "Classification Report : \n",
      "              precision    recall  f1-score   support\n",
      "\n",
      "          0       1.00      1.00      1.00      3316\n",
      "          1       0.99      1.00      0.99      3775\n",
      "          2       0.99      0.99      0.99      3331\n",
      "          3       1.00      0.99      0.99      3414\n",
      "          4       0.99      0.99      0.99      3233\n",
      "          5       0.99      0.99      0.99      3093\n",
      "          6       1.00      1.00      1.00      3352\n",
      "          7       0.99      0.99      0.99      3508\n",
      "          8       1.00      0.99      0.99      3228\n",
      "          9       0.99      0.98      0.99      3350\n",
      "\n",
      "avg / total       0.99      0.99      0.99     33600\n",
      " \n",
      "\n",
      "Confusion Metrics : \n",
      " [[3307    0    0    0    2    2    3    0    1    1]\n",
      " [   0 3759    5    0    0    0    1    7    1    2]\n",
      " [   0    2 3313    0    4    0    0    9    1    2]\n",
      " [   0    0    9 3379    0   12    0    2    8    4]\n",
      " [   1    5    1    0 3215    0    1    3    0    7]\n",
      " [   4    2    0    4    1 3076    3    2    1    0]\n",
      " [   1    0    1    0    5    4 3340    0    1    0]\n",
      " [   2   12    7    0    6    0    0 3475    0    6]\n",
      " [   1    7    2    8    1    5    1    1 3200    2]\n",
      " [   6    2    0    3   17    4    0   18    1 3299]] \n",
      "\n",
      "Average Accuracy : 0.9779\n",
      "\n",
      "Accuracy SD : 0.0024\n",
      "\n",
      "Test Result : \n",
      "\n",
      "Accuracy Score 0.9780\n",
      "\n",
      "Classification Report : \n",
      "              precision    recall  f1-score   support\n",
      "\n",
      "          0       0.99      0.99      0.99       816\n",
      "          1       0.99      0.99      0.99       909\n",
      "          2       0.99      0.97      0.98       846\n",
      "          3       0.97      0.97      0.97       937\n",
      "          4       0.97      0.98      0.97       839\n",
      "          5       0.98      0.98      0.98       702\n",
      "          6       0.98      0.99      0.98       785\n",
      "          7       0.98      0.97      0.98       893\n",
      "          8       0.97      0.97      0.97       835\n",
      "          9       0.97      0.96      0.96       838\n",
      "\n",
      "avg / total       0.98      0.98      0.98      8400\n",
      "\n",
      "\n",
      "Confusion Metrics : \n",
      " [[810   0   0   0   2   0   3   0   1   0]\n",
      " [  0 903   0   1   1   1   1   1   1   0]\n",
      " [  1   3 822   2   8   0   1   2   7   0]\n",
      " [  0   0   1 911   0   6   0   5  11   3]\n",
      " [  0   0   0   0 820   1   5   2   0  11]\n",
      " [  0   0   1   6   1 686   5   1   1   1]\n",
      " [  3   1   0   0   0   3 775   0   3   0]\n",
      " [  0   3   5   1   3   0   0 870   1  10]\n",
      " [  1   2   2   8   4   2   0   1 813   2]\n",
      " [  2   0   2   8  10   2   0   6   3 805]] \n",
      "\n"
     ]
    }
   ],
   "source": [
    "print_score(clf, X_pca, X_test_pca, y_train, y_test, train = True)\n",
    "print_score(clf, X_pca, X_test_pca, y_train, y_test, train = False)"
   ]
  },
  {
   "cell_type": "markdown",
   "metadata": {},
   "source": [
    "## Predicting Test Dataset"
   ]
  },
  {
   "cell_type": "code",
   "execution_count": 22,
   "metadata": {},
   "outputs": [],
   "source": [
    "df = pd.read_csv('test.csv')"
   ]
  },
  {
   "cell_type": "code",
   "execution_count": 23,
   "metadata": {},
   "outputs": [],
   "source": [
    "X_find = df"
   ]
  },
  {
   "cell_type": "code",
   "execution_count": 24,
   "metadata": {},
   "outputs": [],
   "source": [
    "X_find_pca = pca.transform(X_find)"
   ]
  },
  {
   "cell_type": "code",
   "execution_count": 25,
   "metadata": {},
   "outputs": [],
   "source": [
    "y_pred = clf.predict(X_find_pca)"
   ]
  },
  {
   "cell_type": "code",
   "execution_count": 26,
   "metadata": {},
   "outputs": [],
   "source": [
    "df['label'] = y_pred"
   ]
  },
  {
   "cell_type": "code",
   "execution_count": 27,
   "metadata": {},
   "outputs": [],
   "source": [
    "df.to_csv('test_1.csv', index=False)"
   ]
  }
 ],
 "metadata": {
  "kernelspec": {
   "display_name": "Python 3",
   "language": "python",
   "name": "python3"
  },
  "language_info": {
   "codemirror_mode": {
    "name": "ipython",
    "version": 3
   },
   "file_extension": ".py",
   "mimetype": "text/x-python",
   "name": "python",
   "nbconvert_exporter": "python",
   "pygments_lexer": "ipython3",
   "version": "3.6.4"
  }
 },
 "nbformat": 4,
 "nbformat_minor": 2
}
