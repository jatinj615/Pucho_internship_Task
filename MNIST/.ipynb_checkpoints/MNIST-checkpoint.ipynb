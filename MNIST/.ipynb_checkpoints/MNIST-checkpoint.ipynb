{
 "cells": [
  {
   "cell_type": "markdown",
   "metadata": {},
   "source": [
    "## Import Data\n"
   ]
  },
  {
   "cell_type": "code",
   "execution_count": 1,
   "metadata": {},
   "outputs": [],
   "source": [
    "import numpy as np\n",
    "import pandas as pd\n",
    "import matplotlib.pyplot as plt\n",
    "import seaborn as sns"
   ]
  },
  {
   "cell_type": "code",
   "execution_count": 2,
   "metadata": {},
   "outputs": [],
   "source": [
    "df = pd.read_csv('train.csv')"
   ]
  },
  {
   "cell_type": "code",
   "execution_count": 3,
   "metadata": {},
   "outputs": [
    {
     "data": {
      "text/plain": [
       "(42000, 785)"
      ]
     },
     "execution_count": 3,
     "metadata": {},
     "output_type": "execute_result"
    }
   ],
   "source": [
    "df.shape"
   ]
  },
  {
   "cell_type": "code",
   "execution_count": 4,
   "metadata": {},
   "outputs": [
    {
     "data": {
      "text/plain": [
       "array([1, 0, 1, ..., 7, 6, 9])"
      ]
     },
     "execution_count": 4,
     "metadata": {},
     "output_type": "execute_result"
    }
   ],
   "source": [
    "y = np.array(df['label'])\n",
    "y"
   ]
  },
  {
   "cell_type": "code",
   "execution_count": 5,
   "metadata": {},
   "outputs": [
    {
     "data": {
      "text/plain": [
       "0        1\n",
       "1        0\n",
       "2        1\n",
       "3        4\n",
       "4        0\n",
       "5        0\n",
       "6        7\n",
       "7        3\n",
       "8        5\n",
       "9        3\n",
       "10       8\n",
       "11       9\n",
       "12       1\n",
       "13       3\n",
       "14       3\n",
       "15       1\n",
       "16       2\n",
       "17       0\n",
       "18       7\n",
       "19       5\n",
       "20       8\n",
       "21       6\n",
       "22       2\n",
       "23       0\n",
       "24       2\n",
       "25       3\n",
       "26       6\n",
       "27       9\n",
       "28       9\n",
       "29       7\n",
       "        ..\n",
       "41970    2\n",
       "41971    3\n",
       "41972    4\n",
       "41973    4\n",
       "41974    3\n",
       "41975    9\n",
       "41976    2\n",
       "41977    4\n",
       "41978    4\n",
       "41979    4\n",
       "41980    7\n",
       "41981    2\n",
       "41982    8\n",
       "41983    7\n",
       "41984    3\n",
       "41985    3\n",
       "41986    0\n",
       "41987    5\n",
       "41988    0\n",
       "41989    5\n",
       "41990    3\n",
       "41991    1\n",
       "41992    9\n",
       "41993    6\n",
       "41994    4\n",
       "41995    0\n",
       "41996    1\n",
       "41997    7\n",
       "41998    6\n",
       "41999    9\n",
       "Name: label, Length: 42000, dtype: int64"
      ]
     },
     "execution_count": 5,
     "metadata": {},
     "output_type": "execute_result"
    }
   ],
   "source": [
    "df.pop('label')"
   ]
  },
  {
   "cell_type": "code",
   "execution_count": 6,
   "metadata": {},
   "outputs": [],
   "source": [
    "X = df"
   ]
  },
  {
   "cell_type": "code",
   "execution_count": 7,
   "metadata": {},
   "outputs": [],
   "source": [
    "X = np.array(X)"
   ]
  },
  {
   "cell_type": "code",
   "execution_count": 8,
   "metadata": {},
   "outputs": [
    {
     "data": {
      "image/png": "[encoded data removed]",
      "text/plain": [
       "<Figure size 432x288 with 1 Axes>"
      ]
     },
     "metadata": {},
     "output_type": "display_data"
    }
   ],
   "source": [
    "_ = X[1000]\n",
    "_image = _.reshape(28,28)\n",
    "plt.imshow(_image)\n",
    "plt.show()"
   ]
  },
  {
   "cell_type": "code",
   "execution_count": 9,
   "metadata": {},
   "outputs": [],
   "source": [
    "from sklearn.model_selection import train_test_split"
   ]
  },
  {
   "cell_type": "code",
   "execution_count": 10,
   "metadata": {},
   "outputs": [],
   "source": [
    "X_train, X_test, y_train, y_test = train_test_split(X, y, test_size = 0.2, random_state = 42)"
   ]
  },
  {
   "cell_type": "markdown",
   "metadata": {},
   "source": [
    "## Using Logistic Regression"
   ]
  },
  {
   "cell_type": "code",
   "execution_count": 11,
   "metadata": {},
   "outputs": [],
   "source": [
    "from sklearn.ensemble import BaggingClassifier\n",
    "from sklearn.svm import SVC\n",
    "from sklearn.linear_model import LogisticRegression"
   ]
  },
  {
   "cell_type": "code",
   "execution_count": 12,
   "metadata": {},
   "outputs": [],
   "source": [
    "clf = LogisticRegression(solver='sag', multi_class='multinomial')"
   ]
  },
  {
   "cell_type": "code",
   "execution_count": 13,
   "metadata": {},
   "outputs": [
    {
     "name": "stderr",
     "output_type": "stream",
     "text": [
      "/home/jatin/anaconda3/lib/python3.6/site-packages/sklearn/linear_model/sag.py:326: ConvergenceWarning: The max_iter was reached which means the coef_ did not converge\n",
      "  \"the coef_ did not converge\", ConvergenceWarning)\n"
     ]
    },
    {
     "data": {
      "text/plain": [
       "LogisticRegression(C=1.0, class_weight=None, dual=False, fit_intercept=True,\n",
       "          intercept_scaling=1, max_iter=100, multi_class='multinomial',\n",
       "          n_jobs=1, penalty='l2', random_state=None, solver='sag',\n",
       "          tol=0.0001, verbose=0, warm_start=False)"
      ]
     },
     "execution_count": 13,
     "metadata": {},
     "output_type": "execute_result"
    }
   ],
   "source": [
    "clf.fit(X_train, y_train)"
   ]
  },
  {
   "cell_type": "code",
   "execution_count": 14,
   "metadata": {},
   "outputs": [],
   "source": [
    "pred = clf.predict(X_test)"
   ]
  },
  {
   "cell_type": "code",
   "execution_count": 15,
   "metadata": {},
   "outputs": [],
   "source": [
    "from sklearn.metrics import accuracy_score, confusion_matrix, classification_report"
   ]
  },
  {
   "cell_type": "code",
   "execution_count": 16,
   "metadata": {},
   "outputs": [
    {
     "data": {
      "text/plain": [
       "0.9171428571428571"
      ]
     },
     "execution_count": 16,
     "metadata": {},
     "output_type": "execute_result"
    }
   ],
   "source": [
    "accuracy_score(pred, y_test)"
   ]
  },
  {
   "cell_type": "code",
   "execution_count": 17,
   "metadata": {},
   "outputs": [
    {
     "data": {
      "text/plain": [
       "array([[786,   0,   7,   3,   5,   6,   9,   0,   4,   8],\n",
       "       [  0, 891,  15,   3,   2,   2,   1,   1,  10,   1],\n",
       "       [  1,   5, 750,  28,   4,   7,   9,   8,   8,   4],\n",
       "       [  4,   0,  11, 823,   2,  26,   0,   7,  26,  12],\n",
       "       [  3,   1,  13,   1, 777,   9,   6,  15,   7,  17],\n",
       "       [ 10,   2,  10,  29,   2, 609,   8,   3,  24,   6],\n",
       "       [  9,   1,   8,   4,  11,  19, 746,   1,   5,   0],\n",
       "       [  1,   3,   9,  10,   3,   2,   2, 825,   5,  26],\n",
       "       [  2,   5,  22,  25,   4,  17,   4,   6, 741,   8],\n",
       "       [  0,   1,   1,  11,  29,   5,   0,  27,   5, 756]])"
      ]
     },
     "execution_count": 17,
     "metadata": {},
     "output_type": "execute_result"
    }
   ],
   "source": [
    "confusion_matrix(pred, y_test)"
   ]
  },
  {
   "cell_type": "code",
   "execution_count": 18,
   "metadata": {},
   "outputs": [
    {
     "name": "stdout",
     "output_type": "stream",
     "text": [
      "             precision    recall  f1-score   support\n",
      "\n",
      "          0       0.95      0.96      0.96       816\n",
      "          1       0.96      0.98      0.97       909\n",
      "          2       0.91      0.89      0.90       846\n",
      "          3       0.90      0.88      0.89       937\n",
      "          4       0.92      0.93      0.92       839\n",
      "          5       0.87      0.87      0.87       702\n",
      "          6       0.93      0.95      0.94       785\n",
      "          7       0.93      0.92      0.93       893\n",
      "          8       0.89      0.89      0.89       835\n",
      "          9       0.91      0.90      0.90       838\n",
      "\n",
      "avg / total       0.92      0.92      0.92      8400\n",
      "\n"
     ]
    }
   ],
   "source": [
    "print(classification_report(y_test, pred))"
   ]
  },
  {
   "cell_type": "markdown",
   "metadata": {},
   "source": [
    "## Using Bagging"
   ]
  },
  {
   "cell_type": "code",
   "execution_count": 19,
   "metadata": {},
   "outputs": [],
   "source": [
    "from sklearn.ensemble import BaggingClassifier"
   ]
  },
  {
   "cell_type": "code",
   "execution_count": 20,
   "metadata": {},
   "outputs": [],
   "source": [
    "clf = BaggingClassifier(n_estimators=40)"
   ]
  },
  {
   "cell_type": "code",
   "execution_count": 21,
   "metadata": {},
   "outputs": [
    {
     "data": {
      "text/plain": [
       "BaggingClassifier(base_estimator=None, bootstrap=True,\n",
       "         bootstrap_features=False, max_features=1.0, max_samples=1.0,\n",
       "         n_estimators=40, n_jobs=1, oob_score=False, random_state=None,\n",
       "         verbose=0, warm_start=False)"
      ]
     },
     "execution_count": 21,
     "metadata": {},
     "output_type": "execute_result"
    }
   ],
   "source": [
    "clf.fit(X_train, y_train)"
   ]
  },
  {
   "cell_type": "code",
   "execution_count": 22,
   "metadata": {},
   "outputs": [],
   "source": [
    "pred = clf.predict(X_test)"
   ]
  },
  {
   "cell_type": "code",
   "execution_count": 23,
   "metadata": {},
   "outputs": [
    {
     "data": {
      "text/plain": [
       "0.9464285714285714"
      ]
     },
     "execution_count": 23,
     "metadata": {},
     "output_type": "execute_result"
    }
   ],
   "source": [
    "accuracy_score(pred, y_test)"
   ]
  },
  {
   "cell_type": "code",
   "execution_count": 24,
   "metadata": {},
   "outputs": [
    {
     "data": {
      "text/plain": [
       "1.0"
      ]
     },
     "execution_count": 24,
     "metadata": {},
     "output_type": "execute_result"
    }
   ],
   "source": [
    "accuracy_score(clf.predict(X_train), y_train)"
   ]
  },
  {
   "cell_type": "code",
   "execution_count": 25,
   "metadata": {},
   "outputs": [
    {
     "data": {
      "text/plain": [
       "array([[801,   0,   2,   2,   2,   4,   2,   0,   2,   1],\n",
       "       [  0, 895,   5,   2,   1,   3,   2,   0,   1,   0],\n",
       "       [  8,   5, 791,   7,   7,   4,   4,  10,   8,   2],\n",
       "       [  5,   2,  15, 850,   2,  18,   1,  12,  20,  12],\n",
       "       [  1,   0,   0,   0, 801,   0,   6,   1,   5,  25],\n",
       "       [  5,   2,   2,  13,   2, 647,  14,   4,  11,   2],\n",
       "       [  3,   2,   6,   0,   4,   8, 751,   0,  11,   0],\n",
       "       [  3,   2,  13,   3,   4,   1,   0, 846,   3,  18],\n",
       "       [  0,   5,   8,   8,  12,   5,   5,   2, 786,   4],\n",
       "       [  4,   4,   2,  15,  10,   6,   0,  10,   5, 782]])"
      ]
     },
     "execution_count": 25,
     "metadata": {},
     "output_type": "execute_result"
    }
   ],
   "source": [
    "confusion_matrix(y_test, pred)"
   ]
  },
  {
   "cell_type": "code",
   "execution_count": 26,
   "metadata": {},
   "outputs": [
    {
     "name": "stdout",
     "output_type": "stream",
     "text": [
      "             precision    recall  f1-score   support\n",
      "\n",
      "          0       0.97      0.98      0.97       816\n",
      "          1       0.98      0.98      0.98       909\n",
      "          2       0.94      0.93      0.94       846\n",
      "          3       0.94      0.91      0.93       937\n",
      "          4       0.95      0.95      0.95       839\n",
      "          5       0.93      0.92      0.93       702\n",
      "          6       0.96      0.96      0.96       785\n",
      "          7       0.96      0.95      0.95       893\n",
      "          8       0.92      0.94      0.93       835\n",
      "          9       0.92      0.93      0.93       838\n",
      "\n",
      "avg / total       0.95      0.95      0.95      8400\n",
      "\n"
     ]
    }
   ],
   "source": [
    "print(classification_report(y_test, pred))"
   ]
  },
  {
   "cell_type": "markdown",
   "metadata": {},
   "source": [
    "## Evaluation function"
   ]
  },
  {
   "cell_type": "code",
   "execution_count": 27,
   "metadata": {},
   "outputs": [],
   "source": [
    "from sklearn.model_selection import cross_val_predict, cross_val_score\n",
    "from sklearn.metrics import accuracy_score, classification_report, confusion_matrix"
   ]
  },
  {
   "cell_type": "code",
   "execution_count": 28,
   "metadata": {},
   "outputs": [],
   "source": [
    "def print_score(clf, X_train, X_test, y_train, y_test, train = True):\n",
    "#     print accuracy score, classification report, confusion metrics\n",
    "    if train:\n",
    "#         training performance\n",
    "        print('Train Result : \\n')\n",
    "        print('Accuracy Score {0:.4f}\\n'.format(accuracy_score(y_train, clf.predict(X_train))))\n",
    "        print('Classification Report : \\n {} \\n'.format(classification_report(y_train, clf.predict(X_train))))\n",
    "        print('Confusion Metrics : \\n {} \\n'.format(confusion_matrix(y_train, clf.predict(X_train))))\n",
    "        \n",
    "        res = cross_val_score(clf, X_train, y_train, cv = 10, scoring='accuracy')\n",
    "        print('Average Accuracy : {0:.4f}\\n'.format(np.mean(res)))\n",
    "        print('Accuracy SD : {0:.4f}\\n'.format(np.std(res)))\n",
    "        \n",
    "    elif train == False:\n",
    "#         test performance\n",
    "        print('Test Result : \\n')\n",
    "        print('Accuracy Score {0:.4f}\\n'.format(accuracy_score(y_test, clf.predict(X_test))))\n",
    "        print('Classification Report : \\n {}\\n'.format(classification_report(y_test, clf.predict(X_test))))\n",
    "        print('Confusion Metrics : \\n {} \\n'.format(confusion_matrix(y_test, clf.predict(X_test))))\n"
   ]
  },
  {
   "cell_type": "markdown",
   "metadata": {},
   "source": [
    "## Evaluate the model "
   ]
  },
  {
   "cell_type": "code",
   "execution_count": 29,
   "metadata": {},
   "outputs": [
    {
     "name": "stdout",
     "output_type": "stream",
     "text": [
      "Train Result : \n",
      "\n",
      "Accuracy Score 1.0000\n",
      "\n",
      "Classification Report : \n",
      "              precision    recall  f1-score   support\n",
      "\n",
      "          0       1.00      1.00      1.00      3316\n",
      "          1       1.00      1.00      1.00      3775\n",
      "          2       1.00      1.00      1.00      3331\n",
      "          3       1.00      1.00      1.00      3414\n",
      "          4       1.00      1.00      1.00      3233\n",
      "          5       1.00      1.00      1.00      3093\n",
      "          6       1.00      1.00      1.00      3352\n",
      "          7       1.00      1.00      1.00      3508\n",
      "          8       1.00      1.00      1.00      3228\n",
      "          9       1.00      1.00      1.00      3350\n",
      "\n",
      "avg / total       1.00      1.00      1.00     33600\n",
      " \n",
      "\n",
      "Confusion Metrics : \n",
      " [[3316    0    0    0    0    0    0    0    0    0]\n",
      " [   0 3775    0    0    0    0    0    0    0    0]\n",
      " [   0    0 3331    0    0    0    0    0    0    0]\n",
      " [   0    0    0 3414    0    0    0    0    0    0]\n",
      " [   0    0    0    0 3233    0    0    0    0    0]\n",
      " [   0    0    0    0    0 3093    0    0    0    0]\n",
      " [   0    0    0    0    0    0 3352    0    0    0]\n",
      " [   0    0    0    0    0    0    0 3508    0    0]\n",
      " [   0    0    0    0    0    0    0    0 3228    0]\n",
      " [   0    0    0    0    0    0    0    0    0 3350]] \n",
      "\n",
      "Average Accuracy : 0.9470\n",
      "\n",
      "Accuracy SD : 0.0026\n",
      "\n",
      "Test Result : \n",
      "\n",
      "Accuracy Score 0.9464\n",
      "\n",
      "Classification Report : \n",
      "              precision    recall  f1-score   support\n",
      "\n",
      "          0       0.97      0.98      0.97       816\n",
      "          1       0.98      0.98      0.98       909\n",
      "          2       0.94      0.93      0.94       846\n",
      "          3       0.94      0.91      0.93       937\n",
      "          4       0.95      0.95      0.95       839\n",
      "          5       0.93      0.92      0.93       702\n",
      "          6       0.96      0.96      0.96       785\n",
      "          7       0.96      0.95      0.95       893\n",
      "          8       0.92      0.94      0.93       835\n",
      "          9       0.92      0.93      0.93       838\n",
      "\n",
      "avg / total       0.95      0.95      0.95      8400\n",
      "\n",
      "\n",
      "Confusion Metrics : \n",
      " [[801   0   2   2   2   4   2   0   2   1]\n",
      " [  0 895   5   2   1   3   2   0   1   0]\n",
      " [  8   5 791   7   7   4   4  10   8   2]\n",
      " [  5   2  15 850   2  18   1  12  20  12]\n",
      " [  1   0   0   0 801   0   6   1   5  25]\n",
      " [  5   2   2  13   2 647  14   4  11   2]\n",
      " [  3   2   6   0   4   8 751   0  11   0]\n",
      " [  3   2  13   3   4   1   0 846   3  18]\n",
      " [  0   5   8   8  12   5   5   2 786   4]\n",
      " [  4   4   2  15  10   6   0  10   5 782]] \n",
      "\n"
     ]
    }
   ],
   "source": [
    "print_score(clf, X_train, X_test, y_train, y_test, train=True)\n",
    "print_score(clf, X_train, X_test, y_train, y_test, train=False)"
   ]
  }
 ],
 "metadata": {
  "kernelspec": {
   "display_name": "Python 3",
   "language": "python",
   "name": "python3"
  },
  "language_info": {
   "codemirror_mode": {
    "name": "ipython",
    "version": 3
   },
   "file_extension": ".py",
   "mimetype": "text/x-python",
   "name": "python",
   "nbconvert_exporter": "python",
   "pygments_lexer": "ipython3",
   "version": "3.6.4"
  }
 },
 "nbformat": 4,
 "nbformat_minor": 2
}
