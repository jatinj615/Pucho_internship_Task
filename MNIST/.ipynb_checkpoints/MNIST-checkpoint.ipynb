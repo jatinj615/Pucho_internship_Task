{
 "cells": [
  {
   "cell_type": "markdown",
   "metadata": {},
   "source": [
    "## Import Data\n"
   ]
  },
  {
   "cell_type": "code",
   "execution_count": 1,
   "metadata": {},
   "outputs": [],
   "source": [
    "import numpy as np\n",
    "import pandas as pd\n",
    "import matplotlib.pyplot as plt\n",
    "import seaborn as sns"
   ]
  },
  {
   "cell_type": "code",
   "execution_count": 2,
   "metadata": {},
   "outputs": [],
   "source": [
    "df = pd.read_csv('train.csv')"
   ]
  },
  {
   "cell_type": "code",
   "execution_count": 3,
   "metadata": {},
   "outputs": [
    {
     "data": {
      "text/plain": [
       "(42000, 785)"
      ]
     },
     "execution_count": 3,
     "metadata": {},
     "output_type": "execute_result"
    }
   ],
   "source": [
    "df.shape"
   ]
  },
  {
   "cell_type": "code",
   "execution_count": 4,
   "metadata": {},
   "outputs": [
    {
     "data": {
      "text/plain": [
       "array([1, 0, 1, ..., 7, 6, 9])"
      ]
     },
     "execution_count": 4,
     "metadata": {},
     "output_type": "execute_result"
    }
   ],
   "source": [
    "y = np.array(df['label'])\n",
    "y"
   ]
  },
  {
   "cell_type": "code",
   "execution_count": 5,
   "metadata": {},
   "outputs": [
    {
     "data": {
      "text/plain": [
       "0        1\n",
       "1        0\n",
       "2        1\n",
       "3        4\n",
       "4        0\n",
       "5        0\n",
       "6        7\n",
       "7        3\n",
       "8        5\n",
       "9        3\n",
       "10       8\n",
       "11       9\n",
       "12       1\n",
       "13       3\n",
       "14       3\n",
       "15       1\n",
       "16       2\n",
       "17       0\n",
       "18       7\n",
       "19       5\n",
       "20       8\n",
       "21       6\n",
       "22       2\n",
       "23       0\n",
       "24       2\n",
       "25       3\n",
       "26       6\n",
       "27       9\n",
       "28       9\n",
       "29       7\n",
       "        ..\n",
       "41970    2\n",
       "41971    3\n",
       "41972    4\n",
       "41973    4\n",
       "41974    3\n",
       "41975    9\n",
       "41976    2\n",
       "41977    4\n",
       "41978    4\n",
       "41979    4\n",
       "41980    7\n",
       "41981    2\n",
       "41982    8\n",
       "41983    7\n",
       "41984    3\n",
       "41985    3\n",
       "41986    0\n",
       "41987    5\n",
       "41988    0\n",
       "41989    5\n",
       "41990    3\n",
       "41991    1\n",
       "41992    9\n",
       "41993    6\n",
       "41994    4\n",
       "41995    0\n",
       "41996    1\n",
       "41997    7\n",
       "41998    6\n",
       "41999    9\n",
       "Name: label, Length: 42000, dtype: int64"
      ]
     },
     "execution_count": 5,
     "metadata": {},
     "output_type": "execute_result"
    }
   ],
   "source": [
    "df.pop('label')"
   ]
  },
  {
   "cell_type": "code",
   "execution_count": 6,
   "metadata": {},
   "outputs": [],
   "source": [
    "X = df"
   ]
  },
  {
   "cell_type": "code",
   "execution_count": 7,
   "metadata": {},
   "outputs": [],
   "source": [
    "X = np.array(X)"
   ]
  },
  {
   "cell_type": "code",
   "execution_count": 8,
   "metadata": {},
   "outputs": [
    {
     "data": {
      "image/png": "[encoded data removed]",
      "text/plain": [
       "<Figure size 432x288 with 1 Axes>"
      ]
     },
     "metadata": {},
     "output_type": "display_data"
    }
   ],
   "source": [
    "_ = X[1000]\n",
    "_image = _.reshape(28,28)\n",
    "plt.imshow(_image)\n",
    "plt.show()"
   ]
  },
  {
   "cell_type": "code",
   "execution_count": 9,
   "metadata": {},
   "outputs": [],
   "source": [
    "from sklearn.model_selection import train_test_split"
   ]
  },
  {
   "cell_type": "code",
   "execution_count": 10,
   "metadata": {},
   "outputs": [],
   "source": [
    "X_train, X_test, y_train, y_test = train_test_split(X, y, test_size = 0.2)"
   ]
  },
  {
   "cell_type": "markdown",
   "metadata": {},
   "source": [
    "## Using Logistic Regression"
   ]
  },
  {
   "cell_type": "code",
   "execution_count": 11,
   "metadata": {},
   "outputs": [],
   "source": [
    "from sklearn.ensemble import BaggingClassifier\n",
    "from sklearn.svm import SVC\n",
    "from sklearn.linear_model import LogisticRegression"
   ]
  },
  {
   "cell_type": "code",
   "execution_count": 21,
   "metadata": {},
   "outputs": [],
   "source": [
    "clf = LogisticRegression(solver='sag', multi_class='multinomial')"
   ]
  },
  {
   "cell_type": "code",
   "execution_count": 13,
   "metadata": {},
   "outputs": [
    {
     "name": "stderr",
     "output_type": "stream",
     "text": [
      "/home/jatin/anaconda3/lib/python3.6/site-packages/sklearn/linear_model/sag.py:326: ConvergenceWarning: The max_iter was reached which means the coef_ did not converge\n",
      "  \"the coef_ did not converge\", ConvergenceWarning)\n"
     ]
    },
    {
     "data": {
      "text/plain": [
       "LogisticRegression(C=1.0, class_weight=None, dual=False, fit_intercept=True,\n",
       "          intercept_scaling=1, max_iter=100, multi_class='multinomial',\n",
       "          n_jobs=1, penalty='l2', random_state=None, solver='sag',\n",
       "          tol=0.0001, verbose=0, warm_start=False)"
      ]
     },
     "execution_count": 13,
     "metadata": {},
     "output_type": "execute_result"
    }
   ],
   "source": [
    "clf.fit(X_train, y_train)"
   ]
  },
  {
   "cell_type": "code",
   "execution_count": 14,
   "metadata": {},
   "outputs": [],
   "source": [
    "pred = clf.predict(X_test)"
   ]
  },
  {
   "cell_type": "code",
   "execution_count": 15,
   "metadata": {},
   "outputs": [],
   "source": [
    "from sklearn.metrics import accuracy_score, confusion_matrix, classification_report"
   ]
  },
  {
   "cell_type": "code",
   "execution_count": 16,
   "metadata": {},
   "outputs": [
    {
     "data": {
      "text/plain": [
       "0.9085714285714286"
      ]
     },
     "execution_count": 16,
     "metadata": {},
     "output_type": "execute_result"
    }
   ],
   "source": [
    "accuracy_score(pred, y_test)"
   ]
  },
  {
   "cell_type": "code",
   "execution_count": 18,
   "metadata": {},
   "outputs": [
    {
     "data": {
      "text/plain": [
       "array([[789,   1,   4,   3,   3,   7,   5,   1,   5,   5],\n",
       "       [  0, 904,   9,   4,   0,   4,   2,   2,  16,   1],\n",
       "       [  7,   5, 720,  29,   7,   6,  17,  11,   7,   2],\n",
       "       [  4,   7,  12, 784,   1,  22,   2,   2,  28,  12],\n",
       "       [  3,   1,   5,   0, 727,   9,   9,   7,   2,  23],\n",
       "       [  7,   3,   5,  36,   1, 655,  17,   2,  25,   8],\n",
       "       [  6,   1,   6,   4,   8,  10, 768,   1,   2,   0],\n",
       "       [  2,   6,  14,   7,   6,   2,   1, 787,   3,  29],\n",
       "       [  9,   9,  20,  26,   9,  26,   2,   4, 747,   9],\n",
       "       [  2,   2,   7,  17,  36,  13,   0,  38,  15, 751]])"
      ]
     },
     "execution_count": 18,
     "metadata": {},
     "output_type": "execute_result"
    }
   ],
   "source": [
    "confusion_matrix(pred, y_test)"
   ]
  },
  {
   "cell_type": "code",
   "execution_count": 19,
   "metadata": {},
   "outputs": [
    {
     "name": "stdout",
     "output_type": "stream",
     "text": [
      "             precision    recall  f1-score   support\n",
      "\n",
      "          0       0.96      0.95      0.96       829\n",
      "          1       0.96      0.96      0.96       939\n",
      "          2       0.89      0.90      0.89       802\n",
      "          3       0.90      0.86      0.88       910\n",
      "          4       0.92      0.91      0.92       798\n",
      "          5       0.86      0.87      0.87       754\n",
      "          6       0.95      0.93      0.94       823\n",
      "          7       0.92      0.92      0.92       855\n",
      "          8       0.87      0.88      0.87       850\n",
      "          9       0.85      0.89      0.87       840\n",
      "\n",
      "avg / total       0.91      0.91      0.91      8400\n",
      "\n"
     ]
    }
   ],
   "source": [
    "print(classification_report(y_test, pred))"
   ]
  },
  {
   "cell_type": "markdown",
   "metadata": {},
   "source": [
    "## Using Bagging"
   ]
  },
  {
   "cell_type": "code",
   "execution_count": 29,
   "metadata": {},
   "outputs": [],
   "source": [
    "from sklearn.ensemble import BaggingClassifier"
   ]
  },
  {
   "cell_type": "code",
   "execution_count": 87,
   "metadata": {},
   "outputs": [],
   "source": [
    "clf = BaggingClassifier(n_estimators=40)"
   ]
  },
  {
   "cell_type": "code",
   "execution_count": 88,
   "metadata": {},
   "outputs": [
    {
     "data": {
      "text/plain": [
       "BaggingClassifier(base_estimator=None, bootstrap=True,\n",
       "         bootstrap_features=False, max_features=1.0, max_samples=1.0,\n",
       "         n_estimators=40, n_jobs=1, oob_score=False, random_state=None,\n",
       "         verbose=0, warm_start=False)"
      ]
     },
     "execution_count": 88,
     "metadata": {},
     "output_type": "execute_result"
    }
   ],
   "source": [
    "clf.fit(X_train, y_train)"
   ]
  },
  {
   "cell_type": "code",
   "execution_count": 89,
   "metadata": {},
   "outputs": [],
   "source": [
    "pred = clf.predict(X_test)"
   ]
  },
  {
   "cell_type": "code",
   "execution_count": 90,
   "metadata": {},
   "outputs": [
    {
     "data": {
      "text/plain": [
       "0.9417857142857143"
      ]
     },
     "execution_count": 90,
     "metadata": {},
     "output_type": "execute_result"
    }
   ],
   "source": [
    "accuracy_score(pred, y_test)"
   ]
  },
  {
   "cell_type": "code",
   "execution_count": 91,
   "metadata": {},
   "outputs": [
    {
     "data": {
      "text/plain": [
       "0.9998511904761904"
      ]
     },
     "execution_count": 91,
     "metadata": {},
     "output_type": "execute_result"
    }
   ],
   "source": [
    "accuracy_score(clf.predict(X_train), y_train)"
   ]
  },
  {
   "cell_type": "code",
   "execution_count": 92,
   "metadata": {},
   "outputs": [
    {
     "data": {
      "text/plain": [
       "array([[806,   1,   1,   3,   2,   6,   1,   1,   4,   4],\n",
       "       [  0, 921,   4,   6,   1,   1,   1,   2,   2,   1],\n",
       "       [  6,   5, 765,   1,   3,   0,   3,   7,  10,   2],\n",
       "       [  4,   1,  28, 827,   2,  12,   1,   7,  18,  10],\n",
       "       [  0,   0,   3,   0, 749,   3,   6,   2,   3,  32],\n",
       "       [  5,   3,   1,  17,   7, 699,   7,   1,   5,   9],\n",
       "       [  3,   2,   5,   0,   8,  10, 789,   1,   5,   0],\n",
       "       [  0,   5,   6,   3,   4,   0,   0, 823,   1,  13],\n",
       "       [  2,  12,   9,  15,   5,  16,   7,   6, 761,  17],\n",
       "       [  7,   1,   6,   9,  16,   9,   2,  15,   4, 771]])"
      ]
     },
     "execution_count": 92,
     "metadata": {},
     "output_type": "execute_result"
    }
   ],
   "source": [
    "confusion_matrix(y_test, pred)"
   ]
  },
  {
   "cell_type": "code",
   "execution_count": 93,
   "metadata": {},
   "outputs": [
    {
     "name": "stdout",
     "output_type": "stream",
     "text": [
      "             precision    recall  f1-score   support\n",
      "\n",
      "          0       0.97      0.97      0.97       829\n",
      "          1       0.97      0.98      0.97       939\n",
      "          2       0.92      0.95      0.94       802\n",
      "          3       0.94      0.91      0.92       910\n",
      "          4       0.94      0.94      0.94       798\n",
      "          5       0.92      0.93      0.93       754\n",
      "          6       0.97      0.96      0.96       823\n",
      "          7       0.95      0.96      0.96       855\n",
      "          8       0.94      0.90      0.92       850\n",
      "          9       0.90      0.92      0.91       840\n",
      "\n",
      "avg / total       0.94      0.94      0.94      8400\n",
      "\n"
     ]
    }
   ],
   "source": [
    "print(classification_report(y_test, pred))"
   ]
  },
  {
   "cell_type": "markdown",
   "metadata": {},
   "source": [
    "## Evaluation function"
   ]
  },
  {
   "cell_type": "code",
   "execution_count": 55,
   "metadata": {},
   "outputs": [],
   "source": [
    "from sklearn.model_selection import cross_val_predict, cross_val_score\n",
    "from sklearn.metrics import accuracy_score, classification_report, confusion_matrix"
   ]
  },
  {
   "cell_type": "code",
   "execution_count": 56,
   "metadata": {},
   "outputs": [],
   "source": [
    "def print_score(clf, X_train, X_test, y_train, y_test, train = True):\n",
    "#     print accuracy score, classification report, confusion metrics\n",
    "    if train:\n",
    "#         training performance\n",
    "        print('Train Result : \\n')\n",
    "        print('Accuracy Score {0:.4f}\\n'.format(accuracy_score(y_train, clf.predict(X_train))))\n",
    "        print('Classification Report : \\n {} \\n'.format(classification_report(y_train, clf.predict(X_train))))\n",
    "        print('Confusion Metrics : \\n {} \\n'.format(confusion_matrix(y_train, clf.predict(X_train))))\n",
    "        \n",
    "        res = cross_val_score(clf, X_train, y_train, cv = 10, scoring='accuracy')\n",
    "        print('Average Accuracy : {0:.4f}\\n'.format(np.mean(res)))\n",
    "        print('Accuracy SD : {0:.4f}\\n'.format(np.std(res)))\n",
    "        \n",
    "    elif train == False:\n",
    "#         test performance\n",
    "        print('Test Result : \\n')\n",
    "        print('Accuracy Score {0:.4f}\\n'.format(accuracy_score(y_test, clf.predict(X_test))))\n",
    "        print('Classification Report : \\n {}\\n'.format(classification_report(y_test, clf.predict(X_test))))\n",
    "        print('Confusion Metrics : \\n {} \\n'.format(confusion_matrix(y_test, clf.predict(X_test))))\n"
   ]
  },
  {
   "cell_type": "markdown",
   "metadata": {},
   "source": [
    "## Evaluate the model "
   ]
  },
  {
   "cell_type": "code",
   "execution_count": 57,
   "metadata": {},
   "outputs": [
    {
     "name": "stdout",
     "output_type": "stream",
     "text": [
      "Train Result : \n",
      "\n",
      "Accuracy Score 0.9999\n",
      "\n",
      "Classification Report : \n",
      "              precision    recall  f1-score   support\n",
      "\n",
      "          0       1.00      1.00      1.00      3303\n",
      "          1       1.00      1.00      1.00      3745\n",
      "          2       1.00      1.00      1.00      3375\n",
      "          3       1.00      1.00      1.00      3441\n",
      "          4       1.00      1.00      1.00      3274\n",
      "          5       1.00      1.00      1.00      3041\n",
      "          6       1.00      1.00      1.00      3314\n",
      "          7       1.00      1.00      1.00      3546\n",
      "          8       1.00      1.00      1.00      3213\n",
      "          9       1.00      1.00      1.00      3348\n",
      "\n",
      "avg / total       1.00      1.00      1.00     33600\n",
      " \n",
      "\n",
      "Confusion Metrics : \n",
      " [[3303    0    0    0    0    0    0    0    0    0]\n",
      " [   0 3745    0    0    0    0    0    0    0    0]\n",
      " [   0    0 3375    0    0    0    0    0    0    0]\n",
      " [   0    0    0 3441    0    0    0    0    0    0]\n",
      " [   1    0    0    0 3273    0    0    0    0    0]\n",
      " [   1    0    0    0    0 3040    0    0    0    0]\n",
      " [   0    0    0    0    0    0 3314    0    0    0]\n",
      " [   0    0    0    0    0    0    0 3546    0    0]\n",
      " [   0    0    0    0    0    0    0    0 3213    0]\n",
      " [   0    1    0    0    1    0    0    0    0 3346]] \n",
      "\n",
      "Average Accuracy : 0.9415\n",
      "\n",
      "Accuracy SD : 0.0074\n",
      "\n",
      "Test Result : \n",
      "\n",
      "Accuracy Score 0.9454\n",
      "\n",
      "Classification Report : \n",
      "              precision    recall  f1-score   support\n",
      "\n",
      "          0       0.97      0.98      0.97       829\n",
      "          1       0.97      0.97      0.97       939\n",
      "          2       0.93      0.96      0.94       802\n",
      "          3       0.93      0.91      0.92       910\n",
      "          4       0.94      0.95      0.95       798\n",
      "          5       0.93      0.94      0.93       754\n",
      "          6       0.96      0.97      0.97       823\n",
      "          7       0.96      0.96      0.96       855\n",
      "          8       0.94      0.90      0.92       850\n",
      "          9       0.91      0.92      0.92       840\n",
      "\n",
      "avg / total       0.95      0.95      0.95      8400\n",
      "\n",
      "\n",
      "Confusion Metrics : \n",
      " [[811   1   2   0   3   4   1   1   4   2]\n",
      " [  0 914   4   9   3   1   2   3   3   0]\n",
      " [  5   4 766   4   3   0   3   6   6   5]\n",
      " [  3   0  27 825   3  18   0   7  16  11]\n",
      " [  1   1   1   0 758   1   6   0   3  27]\n",
      " [  5   0   2  16   4 708  11   2   3   3]\n",
      " [  3   1   2   0   7   8 799   0   3   0]\n",
      " [  1   6  10   2   5   0   0 817   1  13]\n",
      " [  2  12   7  19   5  15   4   5 767  14]\n",
      " [  4   1   5  10  13   7   3  14   7 776]] \n",
      "\n"
     ]
    }
   ],
   "source": [
    "print_score(clf, X_train, X_test, y_train, y_test, train=True)\n",
    "print_score(clf, X_train, X_test, y_train, y_test, train=False)"
   ]
  },
  {
   "cell_type": "code",
   "execution_count": null,
   "metadata": {},
   "outputs": [],
   "source": []
  }
 ],
 "metadata": {
  "kernelspec": {
   "display_name": "Python 3",
   "language": "python",
   "name": "python3"
  },
  "language_info": {
   "codemirror_mode": {
    "name": "ipython",
    "version": 3
   },
   "file_extension": ".py",
   "mimetype": "text/x-python",
   "name": "python",
   "nbconvert_exporter": "python",
   "pygments_lexer": "ipython3",
   "version": "3.6.4"
  }
 },
 "nbformat": 4,
 "nbformat_minor": 2
}
